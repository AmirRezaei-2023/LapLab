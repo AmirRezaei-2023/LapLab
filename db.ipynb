{
 "cells": [
  {
   "cell_type": "markdown",
   "source": [
    "# Creating Database"
   ],
   "metadata": {
    "collapsed": false
   }
  },
  {
   "cell_type": "markdown",
   "source": [
    "## Importing required packages"
   ],
   "metadata": {
    "collapsed": false
   }
  },
  {
   "cell_type": "code",
   "execution_count": 220,
   "outputs": [],
   "source": [
    "import pandas as pd\n",
    "from sqlalchemy import create_engine, MetaData, URL\n",
    "from sqlalchemy import Table, Column, Integer, String, DATE, ForeignKey, Float"
   ],
   "metadata": {
    "collapsed": false,
    "ExecuteTime": {
     "end_time": "2023-10-15T20:38:38.949888700Z",
     "start_time": "2023-10-15T20:38:38.831644300Z"
    }
   }
  },
  {
   "cell_type": "markdown",
   "source": [
    "### Make connection"
   ],
   "metadata": {
    "collapsed": false
   }
  },
  {
   "cell_type": "code",
   "execution_count": 221,
   "outputs": [],
   "source": [
    "meta = MetaData()\n",
    "USERNAME = 'root'\n",
    "PASSWORD = 'A1382L1234i@#'\n",
    "SERVER = 'localhost'\n",
    "PORT = 3306\n",
    "DATABASE = 'laplab'\n",
    "\n",
    "url_object = URL.create(\"mysql+mysqlconnector\",\n",
    "                        username=USERNAME,\n",
    "                        password=PASSWORD,\n",
    "                        host=SERVER,\n",
    "                        database=DATABASE)\n",
    "engine = create_engine(url_object, echo=False)\n",
    "conn = engine.connect()"
   ],
   "metadata": {
    "collapsed": false,
    "ExecuteTime": {
     "end_time": "2023-10-15T20:38:38.967089700Z",
     "start_time": "2023-10-15T20:38:38.841926400Z"
    }
   }
  },
  {
   "cell_type": "markdown",
   "source": [
    "## Create Tables And Inserting Data"
   ],
   "metadata": {
    "collapsed": false
   }
  },
  {
   "cell_type": "markdown",
   "source": [
    "#### operating_system"
   ],
   "metadata": {
    "collapsed": false
   }
  },
  {
   "cell_type": "code",
   "execution_count": 222,
   "outputs": [],
   "source": [
    "operating_system = Table(\n",
    "    'operating_system', meta,\n",
    "    Column('id', Integer, primary_key=True),\n",
    "    Column('os', String(50)),\n",
    "    Column('os_version', String(20))\n",
    ")"
   ],
   "metadata": {
    "collapsed": false,
    "ExecuteTime": {
     "end_time": "2023-10-15T20:38:39.106575900Z",
     "start_time": "2023-10-15T20:38:38.857404900Z"
    }
   }
  },
  {
   "cell_type": "code",
   "execution_count": 223,
   "outputs": [],
   "source": [
    "meta.create_all(engine)\n"
   ],
   "metadata": {
    "collapsed": false,
    "ExecuteTime": {
     "end_time": "2023-10-15T20:38:39.155518600Z",
     "start_time": "2023-10-15T20:38:38.862049200Z"
    }
   }
  },
  {
   "cell_type": "code",
   "execution_count": 224,
   "outputs": [
    {
     "data": {
      "text/plain": "9"
     },
     "execution_count": 224,
     "metadata": {},
     "output_type": "execute_result"
    }
   ],
   "source": [
    "operating_system_df = pd.read_csv('csv_4_sql/OperatingSystem.csv')\n",
    "operating_system_df.rename(columns={'OperatingSystem_ID': 'id', 'OS': 'os', 'OS_Version': 'os_version'}, inplace=True)\n",
    "operating_system_df.to_sql('operating_system', engine, if_exists='append', index=False)"
   ],
   "metadata": {
    "collapsed": false,
    "ExecuteTime": {
     "end_time": "2023-10-15T20:38:39.160524Z",
     "start_time": "2023-10-15T20:38:38.907890800Z"
    }
   }
  },
  {
   "cell_type": "markdown",
   "source": [
    "#### cpu"
   ],
   "metadata": {
    "collapsed": false
   }
  },
  {
   "cell_type": "code",
   "execution_count": 225,
   "outputs": [],
   "source": [
    "cpu = Table(\n",
    "    'cpu', meta,\n",
    "    Column('id', Integer, primary_key=True),\n",
    "    Column('cpu_brand', String(20)),\n",
    "    Column('cpu_model', String(50)),\n",
    "    Column('cpu_freq_ghz', Integer),\n",
    ")"
   ],
   "metadata": {
    "collapsed": false,
    "ExecuteTime": {
     "end_time": "2023-10-15T20:38:39.164519Z",
     "start_time": "2023-10-15T20:38:38.927375Z"
    }
   }
  },
  {
   "cell_type": "code",
   "execution_count": 226,
   "outputs": [],
   "source": [
    "meta.create_all(engine)"
   ],
   "metadata": {
    "collapsed": false,
    "ExecuteTime": {
     "end_time": "2023-10-15T20:38:39.181806500Z",
     "start_time": "2023-10-15T20:38:38.929886600Z"
    }
   }
  },
  {
   "cell_type": "code",
   "execution_count": 227,
   "outputs": [
    {
     "data": {
      "text/plain": "107"
     },
     "execution_count": 227,
     "metadata": {},
     "output_type": "execute_result"
    }
   ],
   "source": [
    "cpu_df = pd.read_csv('csv_4_sql/CPU.csv')\n",
    "cpu_df.rename(columns={'CPU_ID': 'id', 'CPU_Brand': 'cpu_brand', 'CPU_Model': 'cpu_model', 'CPU_GHZ': 'cpu_freq_ghz'},\n",
    "              inplace=True)\n",
    "cpu_df.to_sql('cpu', engine, if_exists='append', index=False)"
   ],
   "metadata": {
    "collapsed": false,
    "ExecuteTime": {
     "end_time": "2023-10-15T20:38:39.181806500Z",
     "start_time": "2023-10-15T20:38:38.969090500Z"
    }
   }
  },
  {
   "cell_type": "markdown",
   "source": [
    "#### screen"
   ],
   "metadata": {
    "collapsed": false
   }
  },
  {
   "cell_type": "code",
   "execution_count": 228,
   "outputs": [],
   "source": [
    "screen = Table(\n",
    "    'screen', meta,\n",
    "    Column('id', Integer, primary_key=True),\n",
    "    Column('screen_size', Float),\n",
    "    Column('screen_type', String(50)),\n",
    "    Column('screen_resolution', String(20))\n",
    ")"
   ],
   "metadata": {
    "collapsed": false,
    "ExecuteTime": {
     "end_time": "2023-10-15T20:38:39.181806500Z",
     "start_time": "2023-10-15T20:38:39.000027Z"
    }
   }
  },
  {
   "cell_type": "code",
   "execution_count": 229,
   "outputs": [],
   "source": [
    "meta.create_all(engine)"
   ],
   "metadata": {
    "collapsed": false,
    "ExecuteTime": {
     "end_time": "2023-10-15T20:38:39.182772700Z",
     "start_time": "2023-10-15T20:38:39.003453600Z"
    }
   }
  },
  {
   "cell_type": "code",
   "execution_count": 230,
   "outputs": [
    {
     "data": {
      "text/plain": "87"
     },
     "execution_count": 230,
     "metadata": {},
     "output_type": "execute_result"
    }
   ],
   "source": [
    "screen_df = pd.read_csv('csv_4_sql/Screen.csv')\n",
    "screen_df.rename(columns={'Screen_ID': 'id', 'Screen_Size': 'screen_size', 'Screen_Type': 'screen_type',\n",
    "                          'Screen_resolution': 'screen_resolution'}, inplace=True)\n",
    "screen_df.to_sql('screen', engine, if_exists='append', index=False)"
   ],
   "metadata": {
    "collapsed": false,
    "ExecuteTime": {
     "end_time": "2023-10-15T20:38:39.182772700Z",
     "start_time": "2023-10-15T20:38:39.043004Z"
    }
   }
  },
  {
   "cell_type": "markdown",
   "source": [
    "#### manufacturer"
   ],
   "metadata": {
    "collapsed": false
   }
  },
  {
   "cell_type": "code",
   "execution_count": 231,
   "outputs": [],
   "source": [
    "manufacturer = Table(\n",
    "    'manufacturer', meta,\n",
    "    Column('id', Integer, primary_key=True),\n",
    "    Column('manufacturer_name', String(50))\n",
    ")"
   ],
   "metadata": {
    "collapsed": false,
    "ExecuteTime": {
     "end_time": "2023-10-15T20:38:39.182772700Z",
     "start_time": "2023-10-15T20:38:39.064077400Z"
    }
   }
  },
  {
   "cell_type": "code",
   "execution_count": 232,
   "outputs": [],
   "source": [
    "meta.create_all(engine)"
   ],
   "metadata": {
    "collapsed": false,
    "ExecuteTime": {
     "end_time": "2023-10-15T20:38:39.182772700Z",
     "start_time": "2023-10-15T20:38:39.069179400Z"
    }
   }
  },
  {
   "cell_type": "code",
   "execution_count": 233,
   "outputs": [
    {
     "data": {
      "text/plain": "19"
     },
     "execution_count": 233,
     "metadata": {},
     "output_type": "execute_result"
    }
   ],
   "source": [
    "manufacturer_df = pd.read_csv('csv_4_sql/Manufacturer.csv')\n",
    "manufacturer_df.rename(columns={'Manufacturer_ID': 'id', 'Manufacturer': 'manufacturer_name'}, inplace=True)\n",
    "manufacturer_df.to_sql('manufacturer', engine, if_exists='append', index=False)"
   ],
   "metadata": {
    "collapsed": false,
    "ExecuteTime": {
     "end_time": "2023-10-15T20:38:39.182772700Z",
     "start_time": "2023-10-15T20:38:39.106575900Z"
    }
   }
  },
  {
   "cell_type": "markdown",
   "source": [
    "#### gpu"
   ],
   "metadata": {
    "collapsed": false
   }
  },
  {
   "cell_type": "code",
   "execution_count": 234,
   "outputs": [],
   "source": [
    "gpu = Table(\n",
    "    'gpu', meta,\n",
    "    Column('id', Integer, primary_key=True),\n",
    "    Column('gpu_brand', String(30)),\n",
    "    Column('gpu_model', String(50))\n",
    ")"
   ],
   "metadata": {
    "collapsed": false,
    "ExecuteTime": {
     "end_time": "2023-10-15T20:38:39.182772700Z",
     "start_time": "2023-10-15T20:38:39.128595200Z"
    }
   }
  },
  {
   "cell_type": "code",
   "execution_count": 235,
   "outputs": [],
   "source": [
    "meta.create_all(engine)"
   ],
   "metadata": {
    "collapsed": false,
    "ExecuteTime": {
     "end_time": "2023-10-15T20:38:39.277557800Z",
     "start_time": "2023-10-15T20:38:39.133487400Z"
    }
   }
  },
  {
   "cell_type": "code",
   "execution_count": 236,
   "outputs": [
    {
     "data": {
      "text/plain": "110"
     },
     "execution_count": 236,
     "metadata": {},
     "output_type": "execute_result"
    }
   ],
   "source": [
    "gpu_df = pd.read_csv('csv_4_sql/GPU.csv')\n",
    "gpu_df.rename(columns={'GPU_ID': 'id', 'GPU_Brand': 'gpu_brand', 'GPU_Model': 'gpu_model'}, inplace=True)\n",
    "gpu_df.to_sql('gpu', engine, if_exists='append', index=False)"
   ],
   "metadata": {
    "collapsed": false,
    "ExecuteTime": {
     "end_time": "2023-10-15T20:38:39.302766100Z",
     "start_time": "2023-10-15T20:38:39.171772200Z"
    }
   }
  },
  {
   "cell_type": "markdown",
   "source": [
    "#### storage"
   ],
   "metadata": {
    "collapsed": false
   }
  },
  {
   "cell_type": "code",
   "execution_count": 237,
   "outputs": [],
   "source": [
    "storage = Table(\n",
    "    'storage', meta,\n",
    "    Column('id', Integer, primary_key=True),\n",
    "    Column('storage_hdd', Integer),\n",
    "    Column('storage_ssd', Integer),\n",
    "    Column('storage_hybrid', Integer),\n",
    "    Column('storage_flash', Integer),\n",
    "    Column('storage_total', Integer)\n",
    ")"
   ],
   "metadata": {
    "collapsed": false,
    "ExecuteTime": {
     "end_time": "2023-10-15T20:38:39.302766100Z",
     "start_time": "2023-10-15T20:38:39.206532600Z"
    }
   }
  },
  {
   "cell_type": "code",
   "execution_count": 238,
   "outputs": [],
   "source": [
    "meta.create_all(engine)"
   ],
   "metadata": {
    "collapsed": false,
    "ExecuteTime": {
     "end_time": "2023-10-15T20:38:39.303771100Z",
     "start_time": "2023-10-15T20:38:39.210779700Z"
    }
   }
  },
  {
   "cell_type": "code",
   "execution_count": 239,
   "outputs": [
    {
     "data": {
      "text/plain": "35"
     },
     "execution_count": 239,
     "metadata": {},
     "output_type": "execute_result"
    }
   ],
   "source": [
    "storage_df = pd.read_csv('csv_4_sql/Storage.csv')\n",
    "storage_df.rename(columns={'Storage_ID': 'id', 'Storage_SSD': 'storage_ssd','Storage_Hybrid': 'storage_hybrid',\n",
    "                           'Storage_HDD': 'storage_hdd', 'Storage_Flash': 'storage_flash',\n",
    "                           'Storage_Total': 'storage_total'}, inplace=True)\n",
    "storage_df\n",
    "storage_df.to_sql('storage', engine, if_exists='append', index=False)"
   ],
   "metadata": {
    "collapsed": false,
    "ExecuteTime": {
     "end_time": "2023-10-15T20:38:39.304768700Z",
     "start_time": "2023-10-15T20:38:39.270558200Z"
    }
   }
  },
  {
   "cell_type": "markdown",
   "source": [
    "#### orders"
   ],
   "metadata": {
    "collapsed": false
   }
  },
  {
   "cell_type": "code",
   "execution_count": 240,
   "outputs": [],
   "source": [
    "orders = Table(\n",
    "    'orders', meta,\n",
    "    Column('id', Integer, primary_key=True),\n",
    "    Column('branch', String(50)),\n",
    "    Column('order_date', DATE),\n",
    "    Column('order_priority', String(1))\n",
    ")"
   ],
   "metadata": {
    "collapsed": false,
    "ExecuteTime": {
     "end_time": "2023-10-15T20:38:39.305768500Z",
     "start_time": "2023-10-15T20:38:39.290116300Z"
    }
   }
  },
  {
   "cell_type": "code",
   "execution_count": 241,
   "outputs": [],
   "source": [
    "meta.create_all(engine)"
   ],
   "metadata": {
    "collapsed": false,
    "ExecuteTime": {
     "end_time": "2023-10-15T20:38:39.402768100Z",
     "start_time": "2023-10-15T20:38:39.297769900Z"
    }
   }
  },
  {
   "cell_type": "markdown",
   "source": [
    "##### Converting date to gregorian date"
   ],
   "metadata": {
    "collapsed": false
   }
  },
  {
   "cell_type": "code",
   "execution_count": 242,
   "outputs": [],
   "source": [
    "from persiantools.jdatetime import JalaliDate\n",
    "import datetime\n",
    "def reform_date(date_str):\n",
    "    year, month, day = map(int, date_str.split('-'))\n",
    "    jalali_date = JalaliDate(year, month, day)\n",
    "    gregorian_date = jalali_date.to_gregorian()\n",
    "    return gregorian_date"
   ],
   "metadata": {
    "collapsed": false,
    "ExecuteTime": {
     "end_time": "2023-10-15T20:38:39.422518Z",
     "start_time": "2023-10-15T20:38:39.339865700Z"
    }
   }
  },
  {
   "cell_type": "code",
   "execution_count": 243,
   "outputs": [
    {
     "data": {
      "text/plain": "231883"
     },
     "execution_count": 243,
     "metadata": {},
     "output_type": "execute_result"
    }
   ],
   "source": [
    "orders_df = pd.read_csv('csv_4_sql/Orders.csv')\n",
    "orders_df.rename(columns={'Orders_ID': 'id', 'Branch': 'branch', 'Order_Date': 'order_date',\n",
    "                          'Order_Priority': 'order_priority'}, inplace=True)\n",
    "orders_df['order_date'] = orders_df['order_date'].apply(reform_date)\n",
    "orders_df\n",
    "orders_df.to_sql('orders', engine, if_exists='append', index=False)"
   ],
   "metadata": {
    "collapsed": false,
    "ExecuteTime": {
     "end_time": "2023-10-15T20:38:44.200156600Z",
     "start_time": "2023-10-15T20:38:39.345917400Z"
    }
   }
  },
  {
   "cell_type": "markdown",
   "source": [
    "#### laptop"
   ],
   "metadata": {
    "collapsed": false
   }
  },
  {
   "cell_type": "code",
   "execution_count": 244,
   "outputs": [],
   "source": [
    "laptop = Table(\n",
    "    'laptop', meta,\n",
    "    Column('id', Integer, primary_key=True),\n",
    "    Column('manufacturer_id', Integer, ForeignKey('manufacturer.id')),\n",
    "    Column('model_name', String(50)),\n",
    "    Column('category', String(50)),\n",
    "    Column('screen_id', Integer, ForeignKey('screen.id')),\n",
    "    Column('cpu_id', Integer, ForeignKey('cpu.id')),\n",
    "    Column('storage_id', Integer, ForeignKey('storage.id')),\n",
    "    Column('gpu_id', Integer, ForeignKey('gpu.id')),\n",
    "    Column('os_id', Integer, ForeignKey('operating_system.id')),\n",
    "    Column('weight', Float),\n",
    "    Column('ram', Integer),\n",
    "    Column('price', Integer),\n",
    "    Column('discount', Integer),\n",
    "    Column('rating', Float),\n",
    "    Column('store', String(50))\n",
    ")"
   ],
   "metadata": {
    "collapsed": false,
    "ExecuteTime": {
     "end_time": "2023-10-15T20:38:44.206510Z",
     "start_time": "2023-10-15T20:38:44.201159500Z"
    }
   }
  },
  {
   "cell_type": "code",
   "execution_count": 245,
   "outputs": [],
   "source": [
    "meta.create_all(engine)"
   ],
   "metadata": {
    "collapsed": false,
    "ExecuteTime": {
     "end_time": "2023-10-15T20:38:44.275445600Z",
     "start_time": "2023-10-15T20:38:44.207489Z"
    }
   }
  },
  {
   "cell_type": "code",
   "execution_count": 246,
   "outputs": [
    {
     "data": {
      "text/plain": "409689"
     },
     "execution_count": 246,
     "metadata": {},
     "output_type": "execute_result"
    }
   ],
   "source": [
    "laptop_df = pd.read_csv('csv_4_sql/Laptop.csv')\n",
    "laptop_df.rename(columns={'Laptop_ID': 'id', 'Model_Name': 'model_name', 'Category': 'category', 'Weight': 'weight',\n",
    "                          'RAM': 'ram', 'Price': 'price', 'Discount': 'discount', 'Rating': 'rating', 'Store': 'store',\n",
    "                          'Manufacturer_ID': 'manufacturer_id', 'OperatingSystem_ID': 'os_id', 'CPU_ID': 'cpu_id',\n",
    "                          'Screen_ID': 'screen_id', 'Storage_ID': 'storage_id', 'GPU_ID': 'gpu_id'}, inplace=True)\n",
    "laptop_df.to_sql('laptop', engine, if_exists='append', index=False)"
   ],
   "metadata": {
    "collapsed": false,
    "ExecuteTime": {
     "end_time": "2023-10-15T20:39:13.257994800Z",
     "start_time": "2023-10-15T20:38:44.279438200Z"
    }
   }
  },
  {
   "cell_type": "markdown",
   "source": [
    "#### order_detail"
   ],
   "metadata": {
    "collapsed": false
   }
  },
  {
   "cell_type": "code",
   "execution_count": 247,
   "outputs": [],
   "source": [
    "order_detail = Table(\n",
    "    'order_detail', meta,\n",
    "    Column('id', Integer, primary_key=True, autoincrement=True),\n",
    "    Column('order_id', Integer, ForeignKey('orders.id')),\n",
    "    Column('laptop_id', Integer, ForeignKey('laptop.id')),\n",
    "    Column('quantity', Integer),\n",
    "    Column('total_price', Integer),\n",
    "    Column('profit', Integer),\n",
    "    Column('ship_duration', Integer)\n",
    ")"
   ],
   "metadata": {
    "collapsed": false,
    "ExecuteTime": {
     "end_time": "2023-10-15T20:39:13.269179600Z",
     "start_time": "2023-10-15T20:39:13.262001700Z"
    }
   }
  },
  {
   "cell_type": "code",
   "execution_count": 248,
   "outputs": [],
   "source": [
    "meta.create_all(engine)"
   ],
   "metadata": {
    "collapsed": false,
    "ExecuteTime": {
     "end_time": "2023-10-15T20:39:13.498707800Z",
     "start_time": "2023-10-15T20:39:13.270180200Z"
    }
   }
  },
  {
   "cell_type": "code",
   "execution_count": 249,
   "outputs": [
    {
     "data": {
      "text/plain": "1017076"
     },
     "execution_count": 249,
     "metadata": {},
     "output_type": "execute_result"
    }
   ],
   "source": [
    "order_detail_df = pd.read_csv('csv_4_sql/OrderDetail.csv')\n",
    "order_detail_df.rename(columns={'OrderDetail_ID': 'id', 'Quantity': 'quantity', 'Total_Price': 'total_price', 'Profit': 'profit', 'Ship_Duration': 'ship_duration', 'Laptop_ID': 'laptop_id', 'Orders_ID': 'order_id'}, inplace=True)\n",
    "order_detail_df.to_sql('order_detail', engine, if_exists='append', index=False)"
   ],
   "metadata": {
    "collapsed": false,
    "ExecuteTime": {
     "end_time": "2023-10-15T20:40:03.826291800Z",
     "start_time": "2023-10-15T20:39:13.500729500Z"
    }
   }
  }
 ],
 "metadata": {
  "kernelspec": {
   "display_name": "Python 3",
   "language": "python",
   "name": "python3"
  },
  "language_info": {
   "codemirror_mode": {
    "name": "ipython",
    "version": 2
   },
   "file_extension": ".py",
   "mimetype": "text/x-python",
   "name": "python",
   "nbconvert_exporter": "python",
   "pygments_lexer": "ipython2",
   "version": "2.7.6"
  }
 },
 "nbformat": 4,
 "nbformat_minor": 0
}
